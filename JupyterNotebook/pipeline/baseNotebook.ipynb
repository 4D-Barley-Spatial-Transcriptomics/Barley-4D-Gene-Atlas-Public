{
 "cells": [
  {
   "cell_type": "markdown",
   "id": "a4c8cf7d-a4a8-44b1-8ded-91fae3ed2702",
   "metadata": {},
   "source": [
    "## Pipeline\n",
    "\n",
    "The following pipeline calls other scripts, which will load their own libraries as required.\n",
    "\n",
    "The pipeline loads the output from SpaceRanger (the count matrix) and combines your data and analysis into a Seurat Object. \n",
    "\n",
    "Before being able to create visualizations that may be shown in the app, your SpaceRanger output must be run through the following steps:\n",
    "\n",
    "### Steps\n",
    "0. Loading the Spatial Datasets\n",
    "1. Inspecting the Spatial Datasets\n",
    "2. Quality control of the Spatial Data: Filtering number of Genes and UMIs\n",
    "3. Merging into one Seurat Object\n",
    "4. Normalisation\n",
    "5. Getting the Pearson Correlation Coefficient\n",
    "6. Finding Highly Variable Features\n",
    "7. Identification of Spatially Variable Features\n",
    "8. Generating the Elbow Plot\n",
    "9. Clustering: UMAPs and Spatial Plots\n",
    "10. Finding Marker Genes\n",
    "11. Saving the processed Seurat object into an RDS file\n",
    "   \n",
    "Each step has variables that you will have to change according to your samples/organisms."
   ]
  },
  {
   "cell_type": "markdown",
   "id": "107df852-ba68-4656-8892-6a2de98ce843",
   "metadata": {},
   "source": [
    "### Setup"
   ]
  },
  {
   "cell_type": "markdown",
   "id": "22cb1572-cf7e-40e6-84a0-8e026232b745",
   "metadata": {},
   "source": [
    "#### Load the necessary libraries"
   ]
  },
  {
   "cell_type": "code",
   "execution_count": null,
   "id": "d3750790-bdd9-47d6-95b0-bb87dae4bbb3",
   "metadata": {},
   "outputs": [],
   "source": [
    "library(Seurat)\n",
    "library(data.table)"
   ]
  },
  {
   "cell_type": "markdown",
   "id": "13c45f2f-570f-4adb-9e36-dc38454044c9",
   "metadata": {},
   "source": [
    "#### Set the seed value"
   ]
  },
  {
   "cell_type": "code",
   "execution_count": null,
   "id": "5c28f815-da51-400e-9f2f-20a20d54bec6",
   "metadata": {},
   "outputs": [],
   "source": [
    "SEED <- 314\n",
    "set.seed(SEED)"
   ]
  },
  {
   "cell_type": "markdown",
   "id": "dfec3fd3-fbfd-4a81-91b7-9b8b08e46095",
   "metadata": {},
   "source": [
    "Set the name for this run. \n",
    "\n",
    "Change this as needed; changing it will not affect the calculations, only the name of the folder where the output is written to."
   ]
  },
  {
   "cell_type": "code",
   "execution_count": null,
   "id": "2e980b02-33e5-4284-8a5a-f327396c8d0d",
   "metadata": {},
   "outputs": [],
   "source": [
    "run_name <- \"______\""
   ]
  },
  {
   "cell_type": "markdown",
   "id": "5e828844-421c-43b7-ba56-1f9d1f6ce247",
   "metadata": {},
   "source": [
    "#### Specify the input and output folders. \n",
    "\n",
    "The default folders are used, but you may have started the Docker container with a different volume mounting path for your data, in which case you need to specify it here instead of the default.\n",
    "\n",
    "The 'input_data_folder' must contain 2 files (outputs of SpaceRanger):\n",
    "- the filtered_feature_bc_matrix.h5 file \n",
    "- features.tsv.gz (THIS MIGHT NOT BE NEEDED HERE)\n",
    "\n",
    "The output_folder is where all pipeline outputs will go"
   ]
  },
  {
   "cell_type": "code",
   "execution_count": null,
   "id": "10ca8cd8-7f25-4b05-9949-fea8096e4e48",
   "metadata": {},
   "outputs": [],
   "source": [
    "input_folder <- \"/tmp/work/\" \n",
    "output_folder <- paste0(\"/tmp/work/pipeline/\", run_name, \"/\")\n",
    "data_folder <- paste0(input_folder, \"/data\")"
   ]
  },
  {
   "cell_type": "markdown",
   "id": "bf13aee2-1ecf-4b4a-85aa-18d4b92f0b9d",
   "metadata": {},
   "source": [
    "#### Variables\n",
    "\n",
    "Feel free to change the value of the following variables\n",
    "\n",
    "- <b> name </b> - name of your dataset\n",
    "- <b> sections </b>- capture areas in the Visium slides\n",
    "- <b> timepoints </b>- timepoint you'd like to process. May be a list of all the possible timepoints\n",
    "- <b> levels </b> - timepoint and Slide section"
   ]
  },
  {
   "cell_type": "code",
   "execution_count": null,
   "id": "7cd50407-1087-407f-8750-02bd1566a67a",
   "metadata": {},
   "outputs": [],
   "source": [
    "# User dependent\n",
    "name <- \"0HAI\"\n",
    "sections <- c(\"A\", \"B\", \"C\", \"D\")\n",
    "timepoints <- c(\"0HAI\")\n",
    "levels <- c(\"0HAI_A\", \"0HAI_B\", \"0HAI_C\", \"0HAI_D\")"
   ]
  },
  {
   "cell_type": "markdown",
   "id": "69a0d83e-20d4-4418-8356-9fca17ffd056",
   "metadata": {},
   "source": [
    "Variables for quality control (filtration of the data) and plotting.\n",
    "- <b> alpha </b>  - Statitical significance, used in 'inspect data', 'filterdatagraphs', and 'inspectdatamerged'\n",
    "- <b> color_red </b>  - hex value for red used in 'filterdatagraphs\n",
    "- <b> color_green </b>  - hex value for green used in 'filterdatagraphs'"
   ]
  },
  {
   "cell_type": "code",
   "execution_count": null,
   "id": "66d91cc5-5e4f-43af-99ca-e06060fb69fe",
   "metadata": {},
   "outputs": [],
   "source": [
    "\n",
    "alpha <- 0.75\n",
    "color_red <- \"#DF2E38\"\n",
    "color_green <- \"#A7DF97\""
   ]
  },
  {
   "cell_type": "markdown",
   "id": "c7b144b3-73fc-4d86-8e25-c2c859d7cee9",
   "metadata": {},
   "source": [
    "### Step 0 - 3: Pre-processing of the spatial data"
   ]
  },
  {
   "cell_type": "markdown",
   "id": "e0a9ff09-f14b-4a15-ba62-bcbdd013239f",
   "metadata": {},
   "source": [
    "Set Variables: \n",
    "\n",
    "- <b> cut_off_nUMIs_list </b>- vectors of Unique Molecular Identifiers (UMI) to be used as filters in 02_Quality_control\n",
    "- <b> cut_off_nGenes_list </b>- vectors of Numbers of expressed genes to be used as filters in 02_Quality_control\n",
    "- <b> cut_off_nUMIs </b>- Cut off value to be applied to the merged seurat object\n",
    "- <b> cut_off_nGenes </b>- Cut off value to be applied to the merged seurat object\n",
    "- <b> seu_obj_unfiltered_list AND seu_obj_filtered_list </b>- lists that will contain filtered and unfiltered Seurat Objects\n",
    "\n",
    "- <b> filtered_feature_bc_matrix_path </b> - Space Ranger output. Rename if necessary.\n",
    "- <b>feature_tsv_file_path </b> - your own filtered_feature_bc_matrix. Rename if necessary."
   ]
  },
  {
   "cell_type": "code",
   "execution_count": null,
   "id": "45fad55e-4fae-4adb-aed9-aa62f3cb52c6",
   "metadata": {},
   "outputs": [],
   "source": [
    "\n",
    "cut_off_nUMIs_list <- c(20, 20, 30, 30, 30, 100, 150, 200, 200, 200, 300, 300)\n",
    "cut_off_nGenes_list <- c(10, 20, 10, 20, 30, 100, 150, 150, 200, 250, 250, 300)\n",
    "\n",
    "cut_off_nUMIs <- list(\"0HAI\" = 30)\n",
    "cut_off_nGenes <- list(\"0HAI\" = 10)\n",
    "\n",
    "seu_obj_unfiltered_list <- NULL\n",
    "seu_obj_filtered_list <- NULL\n",
    "\n",
    "filtered_feature_bc_matrix_path <- \"./filtered_feature_bc_matrix.h5\"\n",
    "feature_tsv_file_path <- paste0(data_folder, \"/filtered_feature_bc_matrix/features.tsv.gz\")"
   ]
  },
  {
   "cell_type": "markdown",
   "id": "ce3ee67b-ffc0-4a37-8e0e-bfd1c1a0290d",
   "metadata": {},
   "source": [
    "These next 3 steps inspects the data, filters them according to cut_off_nGenes and cut_off_nUMIs.\n",
    "\n",
    "It then merges the data into one merged Seurat Object.\n",
    "  \n",
    "We iterate through the specified timepoints and sections\n",
    "\n",
    "Each timepoint may have 4-8 sections\n",
    "\n",
    "<b>Step 0</b>: loads the data in each combination of timepoints and sections\n",
    "\n",
    "<b>Step 1</b>: inspects the data \n",
    "- It draws plots to determine the number of UMIs and number of genes expressed in each dataset.\n",
    "  \n",
    "<b>Step 2</b>: Filtering\n",
    "- It takes the cut_off_nUMIs_list, cut_off_nGenes_list, applies each of those values, and produces plots of the results to help inform the value you want for 'cut_offnGenes' and 'cut_off_nUMIs'\n",
    "\n",
    "<b>Step 3</b>: merges all the Unfiltered sections for inspection"
   ]
  },
  {
   "cell_type": "code",
   "execution_count": null,
   "id": "b67cce32-01f9-4117-9e22-ddca674c5ca2",
   "metadata": {},
   "outputs": [],
   "source": [
    "for(timepoint in timepoints) {\n",
    "  for(section in sections) {\n",
    "    dataset_name <- paste0(timepoint, \"_\", section)\n",
    "    \n",
    "    # STEP 0 - Load the data\n",
    "    message(paste0(\"~ SCRIPT: Loading the data for: \", dataset_name, \"...\"))\n",
    "    \n",
    "    seu_obj <- Load10X_Spatial(\n",
    "      data.dir = data_folder, \n",
    "      filename = filtered_feature_bc_matrix_path,\n",
    "      assay = \"Spatial\",\n",
    "      slice = dataset_name, \n",
    "      filter.matrix = TRUE, \n",
    "    )\n",
    "    \n",
    "    seu_obj <- RenameCells(object = seu_obj, add.cell.id = dataset_name)\n",
    "    seu_obj@meta.data$section <- section\n",
    "    seu_obj@meta.data$timepoint <- timepoint\n",
    "    seu_obj@meta.data$orig.ident <- dataset_name\n",
    "    seu_obj$section <- dataset_name\n",
    "    Idents(seu_obj) <- dataset_name\n",
    "      \n",
    "    feature_df_data <- fread(feature_tsv_file_path, header=FALSE, sep='\\t')\n",
    "    seu_obj@assays[[\"Spatial\"]]@counts@Dimnames[[1]] <- feature_df_data$V1\n",
    "    seu_obj@assays[[\"Spatial\"]]@data@Dimnames[[1]] <- feature_df_data$V1\n",
    "    \n",
    "    # STEP 1 - INSPECT DATA\n",
    "    message(paste0(\"~ SCRIPT: Inspecting the data for: \", dataset_name, \"...\"))\n",
    "    source(\"./01_Inspect_data.R\")\n",
    "    inspect_data(seu_obj, output_folder, dataset_name, alpha)\n",
    "    \n",
    "    seu_obj_unfiltered_list <- append(seu_obj_unfiltered_list, seu_obj)\n",
    "    \n",
    "    # STEP 2 - FILTER DATA\n",
    "    message(paste0(\"~ SCRIPT: Filtering the data for: \", dataset_name, \"...\"))\n",
    "    source(\"./02_Quality_control_(Filter_out).R\")\n",
    "    filter_data_graphs(seu_obj, output_folder, cut_off_nUMIs_list, cut_off_nGenes_list, \n",
    "                       alpha, color_red, color_green, dataset_name)\n",
    "    seu_obj <- subset(seu_obj, subset = nFeature_Spatial >= cut_off_nGenes & nCount_Spatial >= cut_off_nUMIs)  \n",
    "    seu_obj_filtered_list <- append(seu_obj_filtered_list, seu_obj)\n",
    "  }\n",
    "  \n",
    "  # STEP 3 - INSPECT MERGED UNFILTERED DATA\n",
    "  message(paste0(\"~ SCRIPT:Inspect the merged unfiltered data for: \", dataset_name, \"...\"))\n",
    "  seu_obj_unfiltered_merged <- Reduce(merge, seu_obj_unfiltered_list)\n",
    "  inspect_data_merged(seu_obj_unfiltered_merged, output_folder, name, alpha)\n",
    "}\n"
   ]
  },
  {
   "cell_type": "markdown",
   "id": "ff4809c5-ee2e-452a-b2f5-254597e99bbc",
   "metadata": {},
   "source": [
    "We now merge the filtered dataset"
   ]
  },
  {
   "cell_type": "code",
   "execution_count": null,
   "id": "5a59b70b-164c-4133-ad41-dbc85317f353",
   "metadata": {},
   "outputs": [],
   "source": [
    "seu_obj_merged <- Reduce(merge, seu_obj_filtered_list)"
   ]
  },
  {
   "cell_type": "markdown",
   "id": "42ba0cd2-5612-42fa-82de-33a7294b9e71",
   "metadata": {},
   "source": [
    "### Step 4: Normalisation\n",
    "\n",
    "For each time point, the data from the sections were merged with the “merge” function from Seurat package (v. 4.1.0) and normalized using SCTransform (settings: variable.features.n = NULL, variable.features.rv.th = 1). \n",
    "\n",
    "Section variability within the data were regressed out using the ‘vars.to.regress’ function from SCTransform"
   ]
  },
  {
   "cell_type": "markdown",
   "id": "a2dd5944-194d-43dd-9c5c-dada3b7ae1dc",
   "metadata": {},
   "source": [
    "- <b> regress_out </b> - If set to TRUE, it runs SCTransform with the parameters necessary to regress out unwanted variablility from the variable 'section'. "
   ]
  },
  {
   "cell_type": "code",
   "execution_count": null,
   "id": "e54606c1-c2ab-4561-9349-c8e9c2417897",
   "metadata": {},
   "outputs": [],
   "source": [
    "regress_out <- TRUE"
   ]
  },
  {
   "cell_type": "code",
   "execution_count": null,
   "id": "6ff8320b-fa2a-4d1e-9ed9-e97306f708eb",
   "metadata": {},
   "outputs": [],
   "source": [
    "if(regress_out) {\n",
    "  seu_obj_merged <- SCTransform(seu_obj_merged, assay = \"Spatial\", vars.to.regress =  c('section'),\n",
    "                      variable.features.n = NULL, variable.features.rv.th = 1, return.only.var.genes = FALSE)\n",
    "} else { \n",
    "  seu_obj_merged <- SCTransform(seu_obj_merged, assay = \"Spatial\", variable.features.n = NULL, return.only.var.genes = FALSE)\n",
    "}"
   ]
  },
  {
   "cell_type": "markdown",
   "id": "ffafb2b8-4c04-43f5-a2ba-b66b2b84fe76",
   "metadata": {},
   "source": [
    "### Step 5: Correlation Coefficient\n",
    "\n",
    "We calculate the correlation coefficient to gauge similarity between the each timepoint's sections.\n"
   ]
  },
  {
   "cell_type": "code",
   "execution_count": null,
   "id": "8784ee74-c2c8-4d8b-9d27-82d514a948ac",
   "metadata": {},
   "outputs": [],
   "source": [
    "source(\"./05_Pearson.R\")\n",
    "calculate_Pearson_correlation(seu_obj_merged, output_folder, timepoints, sections)"
   ]
  },
  {
   "cell_type": "markdown",
   "id": "0b052175-64a8-4363-bff8-9b505f5f3960",
   "metadata": {},
   "source": [
    "### Step 6: Identification of highly variable features\n",
    "This calculates a subset of genes that present high spot-to-spot variation in the dataset.\n",
    "\n",
    "This step looks at which genes change the most in the dataset.\n"
   ]
  },
  {
   "cell_type": "code",
   "execution_count": null,
   "id": "752972e3-f8e5-4252-ad45-7415e4f71927",
   "metadata": {},
   "outputs": [],
   "source": [
    "source(\"./06_Highly_variable_features.R\")\n",
    "find_highly_variable_features(seu_obj_merged, output_folder, name)"
   ]
  },
  {
   "cell_type": "markdown",
   "id": "805c8a2f-423d-4ecc-a4d3-9408ff4b1d0e",
   "metadata": {},
   "source": [
    "### Step 7: Identification of Spatially Variable Features\n",
    "\n",
    "It identifies genes that have spatial variability in their expression patterns, indicating that their expression levels differ significantly across different regions of the tissue."
   ]
  },
  {
   "cell_type": "code",
   "execution_count": null,
   "id": "1dbb3d0b-eb41-411d-9b80-196a16ad5357",
   "metadata": {},
   "outputs": [],
   "source": [
    "find_spatially_variable_feature_after_norm(seu_obj_merged, output_folder, name)"
   ]
  },
  {
   "cell_type": "markdown",
   "id": "6b6ab2ea-91af-4e68-b874-ac7f27d1417f",
   "metadata": {},
   "source": [
    "### Step 8: Create Elbow Plot \n",
    "\n",
    "This decides the number of dimensions to be used in analysis.\n",
    "\n",
    "The value where the plot forms the elbow informs the value of the 'dims' variable.\n"
   ]
  },
  {
   "cell_type": "code",
   "execution_count": null,
   "id": "982d7da9-80fa-49e4-a331-87921ce215b2",
   "metadata": {},
   "outputs": [],
   "source": [
    "dims <- 30"
   ]
  },
  {
   "cell_type": "code",
   "execution_count": null,
   "id": "c4daccb2-3d8d-41c3-a464-d4ba54920dea",
   "metadata": {},
   "outputs": [],
   "source": [
    "seu_obj_merged <- RunPCA(seu_obj_merged, assay = \"SCT\", npcs = 2*dims)"
   ]
  },
  {
   "cell_type": "code",
   "execution_count": null,
   "id": "13178455-1ec2-4857-898c-0b7d9bf835d6",
   "metadata": {},
   "outputs": [],
   "source": [
    "source(\"./07_Elbow.R\")\n",
    "draw_elbow_plot(seu_obj_merged, name, output_folder, dims)"
   ]
  },
  {
   "cell_type": "markdown",
   "id": "7ea00a5c-7145-4929-99cc-9f33457e34b6",
   "metadata": {},
   "source": [
    "### Step 9: Clustering of the Spatial Data\n",
    "\n",
    "Principal component analysis (PCA) \n",
    "was performed on the genes with residual variance > 1, and \n",
    "the 30 most significant components were retained as input for Uniform Manifold Approximation and Projection \n",
    "(UMAP) and for spot clustering.\n",
    "\n",
    "- <b>assay</b> - \"SCT\" specifies that the PCA should be run using the data from the SCT assay.\n",
    "- <b> dims </b> - Used in the variable 'npcs' of function 'RunPCA' and in Step 8: Clustering. The recommended value for 'dims' is informed by the Elbow plot.\n",
    "- <b>npcs</b> - 2*dims specifies the number of principal components to calculate\n",
    "\n",
    "The PCA will therefore be calculated using the scaled data from the SCT assay, which is stored in the @scale.data slot of the assay."
   ]
  },
  {
   "cell_type": "markdown",
   "id": "3d9afb83-cbda-4a5b-8767-adaf1ee92746",
   "metadata": {},
   "source": [
    "Generation of spot \n",
    "clusters was made using the ‘FindNeighbors’ (settings: reduction = ‘pca’, dims = 1:30) followed by the ‘FindClusters’ \n",
    "functions in Seurat, where the default algorithm was used \n",
    "to construct a Shared Nearest Neighbor (SSN) graph and \n",
    "apply the Louvain algorithm for cluster generation. \n",
    "\n",
    "Cluster resolution was set from 0.4 to 0.8. The identity of the clusters was assigned based on their location\n",
    "in the section according to the morphology of a barley grain. \n",
    "To identify marker genes for each cluster, pair-wise comparisons of individual clusters \n",
    "against all other clusters were performed using the ‘FindAllMarkers’ function (settings: min.pct = 0.05, logfc.threshold = 0.25, only.pos = T) with \n",
    "Wilcox on rank sum test in the Seurat package. \n",
    "The marker genes were further filtered with an adjusted P value < 0.05 \n",
    "\n",
    "This creates Spatial Feature Plots and UMAPs that show the clusters found."
   ]
  },
  {
   "cell_type": "markdown",
   "id": "8237f8af-9fe5-460d-8038-6e4bed02719e",
   "metadata": {},
   "source": [
    "Variables:\n",
    "\n",
    "- <b> umap_clusters </b> - If True, runs the function 'RunUMAP'\n",
    "\n",
    "- <b> resolution_list </b> - used in Step 8.\n",
    "  - List of resolutions used in creating clusters\n",
    "  - The first argument (0.1) is the starting value of the sequence.\n",
    "  - The second argument (2) is the ending value of the sequence.\n",
    "  - The third argument (0.1) specifies the increment (or step size) between each value in the sequence.\n",
    " \n",
    "- <b> custom_palette_org </b>  - used in creating clustering plots"
   ]
  },
  {
   "cell_type": "code",
   "execution_count": null,
   "id": "8159bc2d-7899-4f0b-8cf1-3bac23c36782",
   "metadata": {},
   "outputs": [],
   "source": [
    "\n",
    "umap_clusters <- TRUE\n",
    "resolution_list <- seq(0.1, 2, 0.1)\n",
    "\n",
    "custom_palette_org <- c(\"#E64B35B2\", \"#4DBBD5B2\", \"#00A087B2\", \"#3C5488B2\", \"#F39B7FB2\", \"#8491B4B2\", \"#91D1C2B2\", \"#DC0000B2\",\n",
    "                    \"#7E6148B2\", \"#B09C85B2\", \"#FF410DCC\", \"#6EE2FFCC\", \"#F7C530CC\", \"#95CC5ECC\", \"#D0DFE6CC\", \"#F79D1ECC\",\n",
    "                    \"#748AA6CC\", \"#00468BB2\", \"#ED0000B2\", \"#42B540B2\", \"#0099B4B2\", \"#925E9FB2\", \"#FDAF91B2\", \"#AD002AB2\",\n",
    "                    \"#ADB6B6B2\", \"#1B1919B2\", \"#FED439CC\", \"#709AE1CC\", \"#8A9197CC\", \"#D2AF81CC\", \"#FD7446CC\", \"#D5E4A2CC\",\n",
    "                    \"#197EC0CC\", \"#F05C3BCC\", \"#46732ECC\", \"#71D0F5CC\", \"#370335CC\", \"#075149CC\", \"#C80813CC\", \"#91331FCC\",\n",
    "                    \"#1A9993CC\", \"#FD8CC1CC\", \"#FAFD7CCC\", \"#82491ECC\", \"#24325FCC\", \"#B7E4F9CC\", \"#FB6467CC\", \"#526E2DCC\",\n",
    "                    \"#FF6F00B2\", \"#C71000B2\", \"#008EA0B2\", \"#8A4198B2\", \"#5A9599B2\", \"#CC0C00B2\", \"#5C88DAB2\", \"#84BD00B2\",\n",
    "                    \"#FFCD00B2\", \"#7C878EB2\", \"#171717B2\", \"#7D0226B2\", \"#300049B2\", \"#165459B2\", \"#3F2327B2\", \"#0B1948B2\",\n",
    "                    \"#E71012B2\", \"#555555B2\", \"#193006B2\", \"#A8450CB2\", \"#D51317B2\", \"#F39200B2\", \"#EFD500B2\", \"#95C11FB2\",\n",
    "                    \"#007B3DB2\", \"#31B7BCB2\", \"#0094CDB2\", \"#164194B2\", \"#6F286AB2\", \"#706F6FB2\", \"#F9CA24CC\", \"#F0932BCC\",\n",
    "                    \"#EB4D4BCC\", \"#6AB04CCC\", \"#C7ECEECC\", \"#22A6B3CC\", \"#BE2EDDCC\", \"#4834D4CC\", \"#130F40CC\", \"#535C68CC\")"
   ]
  },
  {
   "cell_type": "code",
   "execution_count": null,
   "id": "4df8aada-05d1-4c86-82ca-c14d186dc992",
   "metadata": {},
   "outputs": [],
   "source": [
    "# We need to ask the users what value for 'dims' to use since they need to see the elbow plot first. Only If we're generating plots based on user data\n",
    "if(umap_clusters)\n",
    "{ \n",
    "  seu_obj_merged <- RunUMAP(seu_obj_merged, reduction = \"pca\", dims = 1:dims)\n",
    "}\n",
    "\n",
    "seu_obj_merged <- FindNeighbors(seu_obj_merged, reduction = \"pca\", dims = 1:dims)"
   ]
  },
  {
   "cell_type": "code",
   "execution_count": null,
   "id": "a57cefa1-1956-4819-997d-2c22a302923f",
   "metadata": {},
   "outputs": [],
   "source": [
    "source(\"./08_Clustering.R\")\n",
    "seu_obj_merged <- perform_clustering_and_marker_genes(seu_obj_merged, output_folder, resolution_list, umap_clusters, dims, \n",
    "                                                      custom_palette_org, name, alpha, timepoints, levels)\n",
    "\n",
    "source(\"./08_02_Cluster_tree.R\")\n",
    "draw_cluster_tree(seu_obj_merged, output_folder, name)"
   ]
  },
  {
   "cell_type": "markdown",
   "id": "38d49b5e-1d5e-4ca7-8796-c578e6b04214",
   "metadata": {},
   "source": [
    "### Step 10: Find Marker Genes\n",
    "\n",
    "Identifies which genes are highly and specifically expressed within a cluster.\n",
    "It helps identifying which seed tissue is a cluster is related to."
   ]
  },
  {
   "cell_type": "markdown",
   "id": "21e70131-9b91-4ccf-8a77-161d03ceba21",
   "metadata": {},
   "source": [
    "- res - chosen resolution "
   ]
  },
  {
   "cell_type": "code",
   "execution_count": null,
   "id": "76b4369a-1acb-4f6a-9117-f76e3b93069b",
   "metadata": {},
   "outputs": [],
   "source": [
    "res <- 0.2"
   ]
  },
  {
   "cell_type": "code",
   "execution_count": null,
   "id": "eb3a43fd-2fea-4413-9d33-310f6fbf44c9",
   "metadata": {},
   "outputs": [],
   "source": [
    "find_marker_genes(seu_obj_merged, output_folder, name, res, timepoints)"
   ]
  },
  {
   "cell_type": "markdown",
   "id": "465c5495-b4a2-40fc-928a-398e8d361e9e",
   "metadata": {},
   "source": [
    "### Step 11: Save to RDS file \n",
    "You may change the filename"
   ]
  },
  {
   "cell_type": "code",
   "execution_count": null,
   "id": "c169d576-5f25-4db9-a750-4641dc6cb81a",
   "metadata": {},
   "outputs": [],
   "source": [
    "# Save Seurat Object into a RDS file\n",
    "saveRDS(seu_obj_merged, file = paste0(output_folder, \"seurat_object.rds\"))\n"
   ]
  },
  {
   "cell_type": "code",
   "execution_count": null,
   "id": "a0fb2fef-7126-49dc-bd0e-d82d59699edd",
   "metadata": {},
   "outputs": [],
   "source": []
  }
 ],
 "metadata": {
  "kernelspec": {
   "display_name": "R",
   "language": "R",
   "name": "ir"
  },
  "language_info": {
   "codemirror_mode": "r",
   "file_extension": ".r",
   "mimetype": "text/x-r-source",
   "name": "R",
   "pygments_lexer": "r",
   "version": "4.3.2"
  }
 },
 "nbformat": 4,
 "nbformat_minor": 5
}
