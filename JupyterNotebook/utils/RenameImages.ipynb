{
 "cells": [
  {
   "cell_type": "code",
   "execution_count": null,
   "id": "419db4df-abc9-40ea-bba4-ef9b6744e6ae",
   "metadata": {},
   "outputs": [],
   "source": [
    "# Rename Images in RDS file"
   ]
  },
  {
   "cell_type": "code",
   "execution_count": null,
   "id": "32c6e0c5-46a0-44af-8a4b-092d04741e40",
   "metadata": {},
   "outputs": [],
   "source": [
    "# Load RDS file\n",
    "library(Seurat)\n",
    "\n",
    "seurat_object <- readRDS(\"__________\")"
   ]
  },
  {
   "cell_type": "code",
   "execution_count": null,
   "id": "acbdf049-87a4-49aa-bc43-3c1a140cd5c0",
   "metadata": {},
   "outputs": [],
   "source": [
    "original_names <- names(seurat_object@images)\n",
    "print(original_names)\n",
    "\n"
   ]
  },
  {
   "cell_type": "code",
   "execution_count": null,
   "id": "5abec9d0-3d89-4892-876e-d2bd83dfcf61",
   "metadata": {},
   "outputs": [],
   "source": [
    "# New Name format to follow: SECTION.TIMEPOINT\n",
    "# Please edit this example\n",
    "new_names <- c(\"A.3\", \"B.3\", \"C.3\", \"D.3\",\n",
    "                \"A.6\", \"B.6\", \"C.6\", \"D.6\",\n",
    "                \"A.12\", \"B.12\", \"C.12\", \"D.12\",\n",
    "                \"A.20\", \"B.20\", \"C.20\", \"D.20\")\n",
    "names(seurat_object@images) <- new_names\n",
    "print(names(seurat_object@images))"
   ]
  },
  {
   "cell_type": "code",
   "execution_count": null,
   "id": "36855e0e-2eab-4871-b2cf-24ecd845970b",
   "metadata": {},
   "outputs": [],
   "source": [
    "# Save RDS File. \n",
    "# This new RDS file will be the one used by the app\n",
    "saveRDS(seurat_object, file = \"___________\")"
   ]
  }
 ],
 "metadata": {
  "kernelspec": {
   "display_name": "R",
   "language": "R",
   "name": "ir"
  },
  "language_info": {
   "codemirror_mode": "r",
   "file_extension": ".r",
   "mimetype": "text/x-r-source",
   "name": "R",
   "pygments_lexer": "r",
   "version": "4.3.2"
  }
 },
 "nbformat": 4,
 "nbformat_minor": 5
}
