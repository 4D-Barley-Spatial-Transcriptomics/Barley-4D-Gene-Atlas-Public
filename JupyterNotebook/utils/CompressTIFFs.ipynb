{
 "cells": [
  {
   "cell_type": "code",
   "execution_count": 1,
   "id": "f2bc2284-87a7-402c-98c6-763af5ab071c",
   "metadata": {},
   "outputs": [
    {
     "name": "stdin",
     "output_type": "stream",
     "text": [
      "Enter the directory path to search for TIFF files:  tiff\n"
     ]
    },
    {
     "name": "stdout",
     "output_type": "stream",
     "text": [
      "Processed: tiff/A1-01-Stitching-01.tiff -> tiff/A1-01-Stitching-01_3460.png\n"
     ]
    }
   ],
   "source": [
    "import os\n",
    "import subprocess\n",
    "\n",
    "def find_tiff_files(directory):\n",
    "    tiff_files = []\n",
    "\n",
    "    # Walk through the directory and its subdirectories\n",
    "    for root, dirs, files in os.walk(directory):\n",
    "        for file in files:\n",
    "            if file.lower().endswith(('.tiff', '.tif')):  # Check for TIFF files\n",
    "                tiff_files.append(os.path.join(root, file))\n",
    "\n",
    "    return tiff_files\n",
    "\n",
    "def process_tiff_files(tiff_files, command_template):\n",
    "    for tiff_file in tiff_files:\n",
    "        # Create output file path (modify as needed)\n",
    "        output_file = f\"{os.path.splitext(tiff_file)[0]}_3460.png\"\n",
    "        \n",
    "        # Prepare the command by replacing the placeholder with the actual file\n",
    "        command = command_template.replace(\"INPUT_FILE\", tiff_file).replace(\"OUTPUT_FILE\", output_file)\n",
    "\n",
    "        try:\n",
    "            # Run the command\n",
    "            subprocess.run(command, shell=True, check=True)\n",
    "            print(f\"Processed: {tiff_file} -> {output_file}\")\n",
    "        except subprocess.CalledProcessError as e:\n",
    "            print(f\"Error processing {tiff_file}: {e}\")\n",
    "\n",
    "def main():\n",
    "    # Get directory path from user input\n",
    "    directory = input(\"Enter the directory path to search for TIFF files: \").strip()\n",
    "\n",
    "    # Check if the provided directory exists\n",
    "    if not os.path.isdir(directory):\n",
    "        print(\"The provided directory does not exist.\")\n",
    "        return\n",
    "\n",
    "    # Find TIFF files\n",
    "    tiff_files = find_tiff_files(directory)\n",
    "\n",
    "    # Specify the command to run on each TIFF file\n",
    "    command_template = \"magick convert INPUT_FILE -resize 3460 OUTPUT_FILE\"  # Example command using ImageMagick\n",
    "\n",
    "    # Process each TIFF file with the specified command\n",
    "    if tiff_files:\n",
    "        process_tiff_files(tiff_files, command_template)\n",
    "    else:\n",
    "        print(\"No TIFF files found in the specified directory.\")\n",
    "\n",
    "if __name__ == \"__main__\":\n",
    "    main()\n"
   ]
  },
  {
   "cell_type": "code",
   "execution_count": null,
   "id": "557dfb03-ba16-493b-8a81-7d598e9634dd",
   "metadata": {},
   "outputs": [],
   "source": []
  }
 ],
 "metadata": {
  "kernelspec": {
   "display_name": "Python 3 (ipykernel)",
   "language": "python",
   "name": "python3"
  },
  "language_info": {
   "codemirror_mode": {
    "name": "ipython",
    "version": 3
   },
   "file_extension": ".py",
   "mimetype": "text/x-python",
   "name": "python",
   "nbconvert_exporter": "python",
   "pygments_lexer": "ipython3",
   "version": "3.11.8"
  }
 },
 "nbformat": 4,
 "nbformat_minor": 5
}
